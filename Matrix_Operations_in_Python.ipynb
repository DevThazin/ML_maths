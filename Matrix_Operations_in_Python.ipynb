{
  "nbformat": 4,
  "nbformat_minor": 0,
  "metadata": {
    "colab": {
      "provenance": [],
      "authorship_tag": "ABX9TyPxHTDT35Qbr6hM2OpgYsHU",
      "include_colab_link": true
    },
    "kernelspec": {
      "name": "python3",
      "display_name": "Python 3"
    },
    "language_info": {
      "name": "python"
    }
  },
  "cells": [
    {
      "cell_type": "markdown",
      "metadata": {
        "id": "view-in-github",
        "colab_type": "text"
      },
      "source": [
        "<a href=\"https://colab.research.google.com/github/DevThazin/ML_maths/blob/main/Matrix_Operations_in_Python.ipynb\" target=\"_parent\"><img src=\"https://colab.research.google.com/assets/colab-badge.svg\" alt=\"Open In Colab\"/></a>"
      ]
    },
    {
      "cell_type": "code",
      "execution_count": 1,
      "metadata": {
        "id": "YVAfpps4L3w7"
      },
      "outputs": [],
      "source": [
        "import numpy as np"
      ]
    },
    {
      "cell_type": "code",
      "source": [
        "m1=np.array([[1,2,3],[4,5,6]])\n",
        "m2=np.array([[1,5,9],[8,5,1]])"
      ],
      "metadata": {
        "id": "tvk7ZzzNL8Kg"
      },
      "execution_count": 2,
      "outputs": []
    },
    {
      "cell_type": "code",
      "source": [
        "#addition\n",
        "sum=m1+m2"
      ],
      "metadata": {
        "id": "buJH3i2DMRpF"
      },
      "execution_count": 7,
      "outputs": []
    },
    {
      "cell_type": "code",
      "source": [
        "sum"
      ],
      "metadata": {
        "colab": {
          "base_uri": "https://localhost:8080/"
        },
        "id": "VwHiatGiMTzR",
        "outputId": "759c4f42-43d8-4e27-994e-69e9da4c003a"
      },
      "execution_count": 8,
      "outputs": [
        {
          "output_type": "execute_result",
          "data": {
            "text/plain": [
              "array([[ 2,  7, 12],\n",
              "       [12, 10,  7]])"
            ]
          },
          "metadata": {},
          "execution_count": 8
        }
      ]
    },
    {
      "cell_type": "markdown",
      "source": [
        "Addition another way"
      ],
      "metadata": {
        "id": "0W80dzXqMgCK"
      }
    },
    {
      "cell_type": "code",
      "source": [
        "sum1=np.add(m1,m2)"
      ],
      "metadata": {
        "id": "33PuoneTMWkX"
      },
      "execution_count": 9,
      "outputs": []
    },
    {
      "cell_type": "code",
      "source": [
        "print(sum1)"
      ],
      "metadata": {
        "colab": {
          "base_uri": "https://localhost:8080/"
        },
        "id": "CII7P2VJMwRa",
        "outputId": "776fa650-64cc-4f03-c3a9-b61d0484bc97"
      },
      "execution_count": 10,
      "outputs": [
        {
          "output_type": "stream",
          "name": "stdout",
          "text": [
            "[[ 2  7 12]\n",
            " [12 10  7]]\n"
          ]
        }
      ]
    },
    {
      "cell_type": "markdown",
      "source": [
        "Creating matrixes with random number\n"
      ],
      "metadata": {
        "id": "xYrkP4AwM6TZ"
      }
    },
    {
      "cell_type": "code",
      "source": [
        "m3=np.random.randint(10, size=(3,3))\n",
        "m4=np.random.randint(20, size=(3,3))"
      ],
      "metadata": {
        "id": "1tXRKPkXMxlg"
      },
      "execution_count": 12,
      "outputs": []
    },
    {
      "cell_type": "code",
      "source": [
        "print(m3)"
      ],
      "metadata": {
        "colab": {
          "base_uri": "https://localhost:8080/"
        },
        "id": "erdnnG16M256",
        "outputId": "df48f4d2-39ee-484d-b817-4403a7689479"
      },
      "execution_count": 13,
      "outputs": [
        {
          "output_type": "stream",
          "name": "stdout",
          "text": [
            "[[1 7 8]\n",
            " [2 0 6]\n",
            " [3 4 9]]\n"
          ]
        }
      ]
    },
    {
      "cell_type": "code",
      "source": [
        "print(m4)"
      ],
      "metadata": {
        "colab": {
          "base_uri": "https://localhost:8080/"
        },
        "id": "rUrAOWNXNBwZ",
        "outputId": "7249ba0d-c32b-43a7-ff38-f39ee33ab998"
      },
      "execution_count": 14,
      "outputs": [
        {
          "output_type": "stream",
          "name": "stdout",
          "text": [
            "[[ 6 14  0]\n",
            " [10 13  8]\n",
            " [14  3 14]]\n"
          ]
        }
      ]
    },
    {
      "cell_type": "code",
      "source": [
        "sum=np.add(m3,m4)"
      ],
      "metadata": {
        "id": "H6nHd3pYNDXP"
      },
      "execution_count": 16,
      "outputs": []
    },
    {
      "cell_type": "markdown",
      "source": [
        "Subtraction"
      ],
      "metadata": {
        "id": "EsZkKa95NY00"
      }
    },
    {
      "cell_type": "code",
      "source": [
        "sub=m3-m4"
      ],
      "metadata": {
        "id": "50gUTKr4NIxJ"
      },
      "execution_count": 17,
      "outputs": []
    },
    {
      "cell_type": "code",
      "source": [
        "print(sub)"
      ],
      "metadata": {
        "colab": {
          "base_uri": "https://localhost:8080/"
        },
        "id": "sB34iAd3NfN2",
        "outputId": "7cda44bd-bef7-4ddc-b27c-a599e696a06d"
      },
      "execution_count": 22,
      "outputs": [
        {
          "output_type": "stream",
          "name": "stdout",
          "text": [
            "[[ -5  -7   8]\n",
            " [ -8 -13  -2]\n",
            " [-11   1  -5]]\n"
          ]
        }
      ]
    },
    {
      "cell_type": "code",
      "source": [
        "sub=np.subtract(m3,m4)\n",
        "print(sub)"
      ],
      "metadata": {
        "colab": {
          "base_uri": "https://localhost:8080/"
        },
        "id": "L0r-aj4JNgnP",
        "outputId": "bf7b0c9a-175d-49d6-887b-764b0e16fa81"
      },
      "execution_count": 23,
      "outputs": [
        {
          "output_type": "stream",
          "name": "stdout",
          "text": [
            "[[ -5  -7   8]\n",
            " [ -8 -13  -2]\n",
            " [-11   1  -5]]\n"
          ]
        }
      ]
    },
    {
      "cell_type": "markdown",
      "source": [
        "Multiplication of matrix by a scaler"
      ],
      "metadata": {
        "id": "OmQK2IGJN2zL"
      }
    },
    {
      "cell_type": "code",
      "source": [
        "\n",
        "x = 5\n",
        "y = np.random.randint(10, size=(4,4))\n",
        "\n",
        "print(y)\n",
        "product = np.multiply(x,y)\n",
        "print(product)\n"
      ],
      "metadata": {
        "colab": {
          "base_uri": "https://localhost:8080/"
        },
        "id": "OJgmCIA7N2HN",
        "outputId": "3ccf7827-80eb-4240-f2ea-a06e4ab8fef0"
      },
      "execution_count": 27,
      "outputs": [
        {
          "output_type": "stream",
          "name": "stdout",
          "text": [
            "[[1 2 9 6]\n",
            " [9 2 3 1]\n",
            " [3 8 2 9]\n",
            " [0 5 3 8]]\n",
            "[[ 5 10 45 30]\n",
            " [45 10 15  5]\n",
            " [15 40 10 45]\n",
            " [ 0 25 15 40]]\n"
          ]
        }
      ]
    },
    {
      "cell_type": "markdown",
      "source": [
        "Multiplication of two matrices"
      ],
      "metadata": {
        "id": "uP5J1DZ4OF5h"
      }
    },
    {
      "cell_type": "code",
      "source": [
        "a = np.random.randint(10, size=(4,4))\n",
        "b = np.random.randint(20, size=(4,5))\n",
        "print(a)\n",
        "print(b)\n"
      ],
      "metadata": {
        "colab": {
          "base_uri": "https://localhost:8080/"
        },
        "id": "NOzlQXFtNleZ",
        "outputId": "5bbac963-223a-4d80-b2cd-9cd2a86546fd"
      },
      "execution_count": 25,
      "outputs": [
        {
          "output_type": "stream",
          "name": "stdout",
          "text": [
            "[[4 8 3 2]\n",
            " [7 5 7 8]\n",
            " [4 2 0 5]\n",
            " [0 0 0 8]]\n",
            "[[11  1  5  8 11]\n",
            " [13  0 14 13 15]\n",
            " [ 3  8 15  6  4]\n",
            " [18 15 10  7 11]]\n"
          ]
        }
      ]
    },
    {
      "cell_type": "code",
      "source": [
        "mul=np.dot(a,b)"
      ],
      "metadata": {
        "id": "WuM0F4FeOTM4"
      },
      "execution_count": 28,
      "outputs": []
    },
    {
      "cell_type": "code",
      "source": [
        "mul"
      ],
      "metadata": {
        "colab": {
          "base_uri": "https://localhost:8080/"
        },
        "id": "I_OlO2NcOlYE",
        "outputId": "a2063891-09a7-4f98-da84-e52d8647e09b"
      },
      "execution_count": 29,
      "outputs": [
        {
          "output_type": "execute_result",
          "data": {
            "text/plain": [
              "array([[193,  58, 197, 168, 198],\n",
              "       [307, 183, 290, 219, 268],\n",
              "       [160,  79,  98,  93, 129],\n",
              "       [144, 120,  80,  56,  88]])"
            ]
          },
          "metadata": {},
          "execution_count": 29
        }
      ]
    },
    {
      "cell_type": "markdown",
      "source": [
        "Element wise multiplication"
      ],
      "metadata": {
        "id": "vlFigHTLOv5g"
      }
    },
    {
      "cell_type": "code",
      "source": [
        "a = np.random.randint(10, size=(4,4))\n",
        "b = np.random.randint(5, size=(4,4))\n",
        "print(a)\n",
        "print(b)\n"
      ],
      "metadata": {
        "colab": {
          "base_uri": "https://localhost:8080/"
        },
        "id": "ycHGIDQHOpAC",
        "outputId": "ed9718f3-621a-479e-d835-a414bdda3aba"
      },
      "execution_count": 33,
      "outputs": [
        {
          "output_type": "stream",
          "name": "stdout",
          "text": [
            "[[0 8 6 2]\n",
            " [7 8 8 3]\n",
            " [4 2 4 5]\n",
            " [5 8 1 3]]\n",
            "[[4 1 4 1]\n",
            " [1 0 3 4]\n",
            " [0 0 0 2]\n",
            " [2 1 0 2]]\n"
          ]
        }
      ]
    },
    {
      "cell_type": "code",
      "source": [
        "np.multiply(a,b)"
      ],
      "metadata": {
        "colab": {
          "base_uri": "https://localhost:8080/"
        },
        "id": "MhwGYOnBO9NM",
        "outputId": "a5ae9345-45b3-4fa7-859d-595d10be77e1"
      },
      "execution_count": 34,
      "outputs": [
        {
          "output_type": "execute_result",
          "data": {
            "text/plain": [
              "array([[ 0,  8, 24,  2],\n",
              "       [ 7,  0, 24, 12],\n",
              "       [ 0,  0,  0, 10],\n",
              "       [10,  8,  0,  6]])"
            ]
          },
          "metadata": {},
          "execution_count": 34
        }
      ]
    },
    {
      "cell_type": "code",
      "source": [],
      "metadata": {
        "id": "Yrn7wMbWPHH_"
      },
      "execution_count": null,
      "outputs": []
    }
  ]
}